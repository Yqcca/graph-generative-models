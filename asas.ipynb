{
 "cells": [
  {
   "cell_type": "code",
   "execution_count": 1,
   "metadata": {},
   "outputs": [
    {
     "name": "stderr",
     "output_type": "stream",
     "text": [
      "Loading /Users/ca/molecule-datasets/clintox.csv: 100%|██████████| 1485/1485 [00:00<00:00, 66070.60it/s]\n",
      "Constructing molecules from SMILES:   0%|          | 0/1484 [00:00<?, ?it/s]/Users/ca/Desktop/graph-generative-models/torchdg0.2.0/torchdrug/data/feature.py:42: UserWarning: Unknown value `*`\n",
      "  warnings.warn(\"Unknown value `%s`\" % x)\n",
      "[21:11:01] Explicit valence for atom # 0 N, 5, is greater than permitted\n",
      "/Users/ca/Desktop/graph-generative-models/torchdg0.2.0/torchdrug/data/feature.py:42: UserWarning: Unknown value `Tc`\n",
      "  warnings.warn(\"Unknown value `%s`\" % x)\n",
      "/Users/ca/Desktop/graph-generative-models/torchdg0.2.0/torchdrug/data/feature.py:42: UserWarning: Unknown value `Fe`\n",
      "  warnings.warn(\"Unknown value `%s`\" % x)\n",
      "/Users/ca/Desktop/graph-generative-models/torchdg0.2.0/torchdrug/data/feature.py:42: UserWarning: Unknown value `Al`\n",
      "  warnings.warn(\"Unknown value `%s`\" % x)\n",
      "Constructing molecules from SMILES:   4%|▍         | 65/1484 [00:00<00:02, 642.67it/s]/Users/ca/Desktop/graph-generative-models/torchdg0.2.0/torchdrug/data/feature.py:42: UserWarning: Unknown value `Ca`\n",
      "  warnings.warn(\"Unknown value `%s`\" % x)\n",
      "Constructing molecules from SMILES:   9%|▉         | 134/1484 [00:00<00:02, 666.49it/s]/Users/ca/Desktop/graph-generative-models/torchdg0.2.0/torchdrug/data/feature.py:42: UserWarning: Unknown value `Pt`\n",
      "  warnings.warn(\"Unknown value `%s`\" % x)\n",
      "Constructing molecules from SMILES:  19%|█▉        | 283/1484 [00:00<00:01, 644.94it/s][21:11:01] Can't kekulize mol.  Unkekulized atoms: 9\n",
      "/Users/ca/Desktop/graph-generative-models/torchdg0.2.0/torchdrug/data/feature.py:42: UserWarning: Unknown value `Bi`\n",
      "  warnings.warn(\"Unknown value `%s`\" % x)\n",
      "Constructing molecules from SMILES:  66%|██████▌   | 981/1484 [00:01<00:01, 449.28it/s][21:11:02] Explicit valence for atom # 10 N, 4, is greater than permitted\n",
      "[21:11:02] Explicit valence for atom # 10 N, 4, is greater than permitted\n",
      "Constructing molecules from SMILES:  82%|████████▏ | 1213/1484 [00:02<00:00, 545.33it/s][21:11:03] Can't kekulize mol.  Unkekulized atoms: 4\n",
      "[21:11:03] Can't kekulize mol.  Unkekulized atoms: 4\n",
      "Constructing molecules from SMILES:  89%|████████▉ | 1324/1484 [00:02<00:00, 492.21it/s]/Users/ca/Desktop/graph-generative-models/torchdg0.2.0/torchdrug/data/feature.py:42: UserWarning: Unknown value `Au`\n",
      "  warnings.warn(\"Unknown value `%s`\" % x)\n",
      "/Users/ca/Desktop/graph-generative-models/torchdg0.2.0/torchdrug/data/feature.py:42: UserWarning: Unknown value `Tl`\n",
      "  warnings.warn(\"Unknown value `%s`\" % x)\n",
      "/Users/ca/Desktop/graph-generative-models/torchdg0.2.0/torchdrug/data/feature.py:42: UserWarning: Unknown value `Cr`\n",
      "  warnings.warn(\"Unknown value `%s`\" % x)\n",
      "/Users/ca/Desktop/graph-generative-models/torchdg0.2.0/torchdrug/data/feature.py:42: UserWarning: Unknown value `Mn`\n",
      "  warnings.warn(\"Unknown value `%s`\" % x)\n",
      "Constructing molecules from SMILES:  93%|█████████▎| 1379/1484 [00:02<00:00, 506.60it/s]/Users/ca/Desktop/graph-generative-models/torchdg0.2.0/torchdrug/data/feature.py:42: UserWarning: Unknown value `Hg`\n",
      "  warnings.warn(\"Unknown value `%s`\" % x)\n",
      "Constructing molecules from SMILES:  97%|█████████▋| 1440/1484 [00:02<00:00, 533.55it/s]/Users/ca/Desktop/graph-generative-models/torchdg0.2.0/torchdrug/data/feature.py:42: UserWarning: Unknown value `As`\n",
      "  warnings.warn(\"Unknown value `%s`\" % x)\n",
      "/Users/ca/Desktop/graph-generative-models/torchdg0.2.0/torchdrug/data/feature.py:42: UserWarning: Unknown value `Ti`\n",
      "  warnings.warn(\"Unknown value `%s`\" % x)\n",
      "Constructing molecules from SMILES: 100%|██████████| 1484/1484 [00:02<00:00, 548.40it/s]\n"
     ]
    }
   ],
   "source": [
    "import torch\n",
    "from torchdrug import datasets\n",
    "import optuna\n",
    "\n",
    "dataset = datasets.ClinTox(\"~/molecule-datasets/\")\n",
    "lengths = [int(0.8 * len(dataset)), int(0.1 * len(dataset))]\n",
    "lengths += [len(dataset) - sum(lengths)]\n",
    "train_set, valid_set, test_set = torch.utils.data.random_split(dataset, lengths)"
   ]
  },
  {
   "cell_type": "code",
   "execution_count": 26,
   "metadata": {},
   "outputs": [],
   "source": [
    "from torchdrug import core, models, tasks\n",
    "model = models.GIN(input_dim=dataset.node_feature_dim, hidden_dims=[256, 256, 256, 256],\n",
    "                   short_cut=True, batch_norm=True, concat_hidden=True)"
   ]
  },
  {
   "cell_type": "code",
   "execution_count": 27,
   "metadata": {},
   "outputs": [],
   "source": [
    "task = tasks.PropertyPrediction(model, task=dataset.tasks,\n",
    "                                criterion=\"bce\", metric=(\"auprc\", \"auroc\"))"
   ]
  },
  {
   "cell_type": "code",
   "execution_count": 52,
   "metadata": {},
   "outputs": [
    {
     "name": "stdout",
     "output_type": "stream",
     "text": [
      "21:28:47   Preprocess training set\n",
      "21:28:47   {'batch_size': 1024,\n",
      " 'class': 'core.Engine',\n",
      " 'gpus': None,\n",
      " 'gradient_interval': 1,\n",
      " 'log_interval': 100,\n",
      " 'logger': 'logging',\n",
      " 'num_worker': 0,\n",
      " 'optimizer': {'amsgrad': False,\n",
      "               'betas': (0.9, 0.999),\n",
      "               'class': 'optim.Adam',\n",
      "               'eps': 1e-08,\n",
      "               'lr': 0.001,\n",
      "               'weight_decay': 0},\n",
      " 'scheduler': None,\n",
      " 'task': {'class': 'tasks.PropertyPrediction',\n",
      "          'criterion': 'bce',\n",
      "          'graph_construction_model': None,\n",
      "          'metric': ('auprc', 'auroc'),\n",
      "          'mlp_batch_norm': False,\n",
      "          'mlp_dropout': 0,\n",
      "          'model': {'activation': 'relu',\n",
      "                    'batch_norm': True,\n",
      "                    'class': 'models.GIN',\n",
      "                    'concat_hidden': True,\n",
      "                    'edge_input_dim': None,\n",
      "                    'eps': 0,\n",
      "                    'hidden_dims': [256, 256, 256, 256],\n",
      "                    'input_dim': 67,\n",
      "                    'learn_eps': False,\n",
      "                    'num_mlp_layer': 2,\n",
      "                    'num_relation': None,\n",
      "                    'readout': 'sum',\n",
      "                    'short_cut': True},\n",
      "          'normalization': True,\n",
      "          'num_class': None,\n",
      "          'num_mlp_layer': 1,\n",
      "          'task': ['FDA_APPROVED', 'CT_TOX'],\n",
      "          'verbose': 0},\n",
      " 'test_set': {'class': 'dataset.Subset',\n",
      "              'dataset': {'class': 'datasets.ClinTox',\n",
      "                          'path': '~/molecule-datasets/',\n",
      "                          'verbose': 1},\n",
      "              'indices': [1414, 488, 213, ..., 1066, 252, 528]},\n",
      " 'train_set': {'class': 'dataset.Subset',\n",
      "               'dataset': {'class': 'datasets.ClinTox',\n",
      "                           'path': '~/molecule-datasets/',\n",
      "                           'verbose': 1},\n",
      "               'indices': [1153, 741, 1034, ..., 1428, 364, 136]},\n",
      " 'valid_set': {'class': 'dataset.Subset',\n",
      "               'dataset': {'class': 'datasets.ClinTox',\n",
      "                           'path': '~/molecule-datasets/',\n",
      "                           'verbose': 1},\n",
      "               'indices': [240, 977, 822, ..., 756, 1455, 1182]}}\n",
      "21:28:47   >>>>>>>>>>>>>>>>>>>>>>>>>>>>>>\n",
      "21:28:47   Epoch 0 begin\n",
      "21:28:50   >>>>>>>>>>>>>>>>>>>>>>>>>>>>>>\n",
      "21:28:50   binary cross entropy: 15.4783\n",
      "21:28:51   >>>>>>>>>>>>>>>>>>>>>>>>>>>>>>\n",
      "21:28:51   Epoch 0 end\n",
      "21:28:51   duration: 3.74 secs\n",
      "21:28:51   speed: 0.53 batch / sec\n",
      "21:28:51   ETA: 0.00 secs\n",
      "21:28:51   ------------------------------\n",
      "21:28:51   average binary cross entropy: 13.5007\n"
     ]
    }
   ],
   "source": [
    "optimizer = torch.optim.Adam(task.parameters(), lr=1e-3)\n",
    "solver = core.Engine(task, train_set, valid_set, test_set, optimizer, batch_size=1024)\n",
    "solver.train(num_epoch=1)"
   ]
  }
 ],
 "metadata": {
  "kernelspec": {
   "display_name": "pt",
   "language": "python",
   "name": "pt"
  },
  "language_info": {
   "codemirror_mode": {
    "name": "ipython",
    "version": 3
   },
   "file_extension": ".py",
   "mimetype": "text/x-python",
   "name": "python",
   "nbconvert_exporter": "python",
   "pygments_lexer": "ipython3",
   "version": "3.8.16"
  },
  "orig_nbformat": 4
 },
 "nbformat": 4,
 "nbformat_minor": 2
}
