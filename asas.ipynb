{
 "cells": [
  {
   "cell_type": "code",
   "execution_count": 1,
   "metadata": {},
   "outputs": [
    {
     "name": "stderr",
     "output_type": "stream",
     "text": [
      "Loading /Users/ca/molecule-datasets/250k_rndm_zinc_drugs_clean_3.csv:  50%|█████     | 249456/498911 [00:03<00:03, 65720.70it/s]\n",
      "Constructing molecules from SMILES: 100%|██████████| 249455/249455 [06:32<00:00, 636.18it/s] \n"
     ]
    }
   ],
   "source": [
    "import torch\n",
    "from torchdrug import datasets, tasks, core, models\n",
    "\n",
    "dataset = datasets.ZINC250k(\"~/molecule-datasets/\", kekulize=True,\n",
    "                           atom_feature=\"symbol\")"
   ]
  },
  {
   "cell_type": "code",
   "execution_count": null,
   "metadata": {},
   "outputs": [],
   "source": [
    "from torchdrug.layers import functional\n",
    "graph = dataset[0]['graph']\n",
    "node_feature = functional.one_hot(graph.atom_type, dataset.node_feature_dim)\n",
    "edge_feature = functional.one_hot(graph.edge_list[:,-1], dataset.edge_feature_dim)\n",
    "graph.edge_feature = edge_feature"
   ]
  }
 ],
 "metadata": {
  "kernelspec": {
   "display_name": "pt",
   "language": "python",
   "name": "python3"
  },
  "language_info": {
   "codemirror_mode": {
    "name": "ipython",
    "version": 3
   },
   "file_extension": ".py",
   "mimetype": "text/x-python",
   "name": "python",
   "nbconvert_exporter": "python",
   "pygments_lexer": "ipython3",
   "version": "3.8.16"
  },
  "orig_nbformat": 4
 },
 "nbformat": 4,
 "nbformat_minor": 2
}
