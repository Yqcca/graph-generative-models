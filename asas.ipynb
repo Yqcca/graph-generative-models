{
 "cells": [
  {
   "cell_type": "code",
   "execution_count": 1,
   "metadata": {},
   "outputs": [
    {
     "name": "stderr",
     "output_type": "stream",
     "text": [
      "Loading /Users/ca/molecule-datasets/clintox.csv: 100%|██████████| 1485/1485 [00:00<00:00, 78195.94it/s]\n",
      "Constructing molecules from SMILES: 100%|██████████| 1484/1484 [00:02<00:00, 604.78it/s]\n"
     ]
    }
   ],
   "source": [
    "import torch\n",
    "from torchdrug import datasets, tasks, core, models\n",
    "\n",
    "dataset = datasets.ClinTox(\"~/molecule-datasets/\")"
   ]
  },
  {
   "cell_type": "code",
   "execution_count": 2,
   "metadata": {},
   "outputs": [],
   "source": [
    "lengths = [int(0.8 * len(dataset)), int(0.1 * len(dataset))]\n",
    "lengths += [len(dataset) - sum(lengths)]\n",
    "train_set, valid_set, test_set = torch.utils.data.random_split(dataset, lengths)"
   ]
  },
  {
   "cell_type": "code",
   "execution_count": 4,
   "metadata": {},
   "outputs": [],
   "source": [
    "from gatv2 import GATV2"
   ]
  },
  {
   "cell_type": "code",
   "execution_count": 5,
   "metadata": {},
   "outputs": [
    {
     "name": "stdout",
     "output_type": "stream",
     "text": [
      "17:51:22   Preprocess training set\n",
      "17:51:22   {'batch_size': 1024,\n",
      " 'class': 'core.Engine',\n",
      " 'gpus': None,\n",
      " 'gradient_interval': 1,\n",
      " 'log_interval': 100,\n",
      " 'logger': 'logging',\n",
      " 'num_worker': 0,\n",
      " 'optimizer': {'amsgrad': False,\n",
      "               'betas': (0.9, 0.999),\n",
      "               'class': 'optim.Adam',\n",
      "               'eps': 1e-08,\n",
      "               'lr': 0.001,\n",
      "               'weight_decay': 0},\n",
      " 'scheduler': None,\n",
      " 'task': {'class': 'tasks.PropertyPrediction',\n",
      "          'criterion': 'bce',\n",
      "          'graph_construction_model': None,\n",
      "          'metric': ('auprc', 'auroc'),\n",
      "          'mlp_batch_norm': False,\n",
      "          'mlp_dropout': 0,\n",
      "          'model': {'activation': 'relu',\n",
      "                    'batch_norm': True,\n",
      "                    'class': 'GATV2',\n",
      "                    'concat_hidden': True,\n",
      "                    'edge_input_dim': 18,\n",
      "                    'hidden_dims': [64, 64, 64],\n",
      "                    'input_dim': 67,\n",
      "                    'negative_slope': 0.2,\n",
      "                    'num_head': 1,\n",
      "                    'num_relation': None,\n",
      "                    'readout': 'sum',\n",
      "                    'short_cut': True},\n",
      "          'normalization': True,\n",
      "          'num_class': None,\n",
      "          'num_mlp_layer': 1,\n",
      "          'task': ['FDA_APPROVED', 'CT_TOX'],\n",
      "          'verbose': 0},\n",
      " 'test_set': {'class': 'dataset.Subset',\n",
      "              'dataset': {'class': 'datasets.ClinTox',\n",
      "                          'path': '~/molecule-datasets/',\n",
      "                          'verbose': 1},\n",
      "              'indices': [237, 814, 1419, ..., 218, 937, 502]},\n",
      " 'train_set': {'class': 'dataset.Subset',\n",
      "               'dataset': {'class': 'datasets.ClinTox',\n",
      "                           'path': '~/molecule-datasets/',\n",
      "                           'verbose': 1},\n",
      "               'indices': [992, 585, 296, ..., 456, 1405, 611]},\n",
      " 'valid_set': {'class': 'dataset.Subset',\n",
      "               'dataset': {'class': 'datasets.ClinTox',\n",
      "                           'path': '~/molecule-datasets/',\n",
      "                           'verbose': 1},\n",
      "               'indices': [1108, 986, 914, ..., 713, 1122, 1145]}}\n",
      "17:51:22   >>>>>>>>>>>>>>>>>>>>>>>>>>>>>>\n",
      "17:51:22   Epoch 0 begin\n",
      "17:51:23   >>>>>>>>>>>>>>>>>>>>>>>>>>>>>>\n",
      "17:51:23   binary cross entropy: 2.12423\n",
      "17:51:24   >>>>>>>>>>>>>>>>>>>>>>>>>>>>>>\n",
      "17:51:24   Epoch 0 end\n",
      "17:51:24   duration: 1.73 secs\n",
      "17:51:24   speed: 1.15 batch / sec\n",
      "17:51:24   ETA: 0.00 secs\n",
      "17:51:24   ------------------------------\n",
      "17:51:24   average binary cross entropy: 1.34459\n"
     ]
    }
   ],
   "source": [
    "model = GATV2(input_dim=dataset.node_feature_dim, hidden_dims=[64, 64, 64], edge_input_dim=dataset.edge_feature_dim,\n",
    "                short_cut=True, batch_norm=True, concat_hidden=True)\n",
    "task = tasks.PropertyPrediction(model, task=dataset.tasks,\n",
    "                            criterion=\"bce\", metric=(\"auprc\", \"auroc\"))\n",
    "optimizer = torch.optim.Adam(task.parameters(), lr=1e-3)\n",
    "solver = core.Engine(task, train_set, valid_set, test_set, optimizer, batch_size=1024)\n",
    "solver.train(num_epoch=1)"
   ]
  }
 ],
 "metadata": {
  "kernelspec": {
   "display_name": "pt",
   "language": "python",
   "name": "pt"
  },
  "language_info": {
   "codemirror_mode": {
    "name": "ipython",
    "version": 3
   },
   "file_extension": ".py",
   "mimetype": "text/x-python",
   "name": "python",
   "nbconvert_exporter": "python",
   "pygments_lexer": "ipython3",
   "version": "3.8.16"
  },
  "orig_nbformat": 4
 },
 "nbformat": 4,
 "nbformat_minor": 2
}
