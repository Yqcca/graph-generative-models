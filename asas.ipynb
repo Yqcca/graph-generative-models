{
 "cells": [
  {
   "cell_type": "code",
   "execution_count": 1,
   "metadata": {},
   "outputs": [
    {
     "name": "stderr",
     "output_type": "stream",
     "text": [
      "Loading /Users/ca/molecule-datasets/250k_rndm_zinc_drugs_clean_3.csv:  50%|█████     | 249456/498911 [00:03<00:03, 62790.38it/s]\n",
      "Constructing molecules from SMILES: 100%|██████████| 249455/249455 [08:30<00:00, 488.81it/s] \n"
     ]
    }
   ],
   "source": [
    "import torch\n",
    "from torchdrug import datasets, tasks, core, models\n",
    "\n",
    "dataset = datasets.ZINC250k(\"~/molecule-datasets/\", kekulize=True,\n",
    "                            atom_feature=\"symbol\")"
   ]
  },
  {
   "cell_type": "code",
   "execution_count": null,
   "metadata": {},
   "outputs": [],
   "source": [
    "dataset[0]['graph'].edge_feature"
   ]
  },
  {
   "cell_type": "code",
   "execution_count": null,
   "metadata": {},
   "outputs": [],
   "source": [
    "lengths = [int(0.8 * len(dataset)), int(0.1 * len(dataset))]\n",
    "lengths += [len(dataset) - sum(lengths)]\n",
    "train_set, valid_set, test_set = torch.utils.data.random_split(dataset, lengths)"
   ]
  },
  {
   "cell_type": "code",
   "execution_count": null,
   "metadata": {},
   "outputs": [],
   "source": [
    "from gatv3 import GATV3"
   ]
  }
 ],
 "metadata": {
  "kernelspec": {
   "display_name": "pt",
   "language": "python",
   "name": "pt"
  },
  "language_info": {
   "codemirror_mode": {
    "name": "ipython",
    "version": 3
   },
   "file_extension": ".py",
   "mimetype": "text/x-python",
   "name": "python",
   "nbconvert_exporter": "python",
   "pygments_lexer": "ipython3",
   "version": "3.8.16"
  },
  "orig_nbformat": 4
 },
 "nbformat": 4,
 "nbformat_minor": 2
}
