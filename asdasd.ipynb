{
 "cells": [
  {
   "cell_type": "code",
   "execution_count": null,
   "metadata": {},
   "outputs": [],
   "source": [
    "import torchdrug as td\n",
    "from torchdrug import data\n",
    "import matplotlib\n",
    "%matplotlib inline  \n",
    "\n",
    "edge_list = [[0, 1], [1, 2], [2, 3], [3, 4], [4, 5], [5, 0]]\n",
    "graph = data.Graph(edge_list, num_node=6)\n",
    "graph.visualize()"
   ]
  },
  {
   "cell_type": "code",
   "execution_count": null,
   "metadata": {},
   "outputs": [],
   "source": [
    "mol = data.Molecule.from_smiles(\"C1=CC=CC=C1\")\n",
    "mol.visualize()\n",
    "print(mol.node_feature.shape)\n",
    "print(mol.edge_feature.shape)"
   ]
  },
  {
   "cell_type": "code",
   "execution_count": null,
   "metadata": {},
   "outputs": [],
   "source": [
    "mols = data.PackedMolecule.from_smiles([\"CCSCCSP(=S)(OC)OC\", \"CCOC(=O)N\", \"N(Nc1ccccc1)c2ccccc2\", \"NC(=O)c1cccnc1\"])\n",
    "mols.visualize()\n",
    "mols = mols.cuda()\n",
    "print(mols)"
   ]
  },
  {
   "cell_type": "code",
   "execution_count": null,
   "metadata": {},
   "outputs": [],
   "source": [
    "import torch\n",
    "from torchdrug import datasets\n",
    "\n",
    "dataset = datasets.ClinTox(\"~/molecule-datasets/\")\n",
    "lengths = [int(0.8 * len(dataset)), int(0.1 * len(dataset))]\n",
    "lengths += [len(dataset) - sum(lengths)]\n",
    "train_set, valid_set, test_set = torch.utils.data.random_split(dataset, lengths)"
   ]
  },
  {
   "cell_type": "code",
   "execution_count": null,
   "metadata": {},
   "outputs": [],
   "source": [
    "from torchdrug import core, models, tasks\n",
    "\n",
    "model = models.GIN(input_dim=dataset.node_feature_dim, hidden_dims=[256, 256, 256, 256],\n",
    "                   short_cut=True, batch_norm=True, concat_hidden=True)"
   ]
  },
  {
   "cell_type": "code",
   "execution_count": null,
   "metadata": {},
   "outputs": [],
   "source": [
    "task = tasks.PropertyPrediction(model, task=dataset.tasks,\n",
    "                                criterion=\"bce\", metric=(\"auprc\", \"auroc\"))"
   ]
  },
  {
   "cell_type": "code",
   "execution_count": null,
   "metadata": {},
   "outputs": [],
   "source": [
    "optimizer = torch.optim.Adam(task.parameters(), lr=1e-3)\n",
    "solver = core.Engine(task, train_set, valid_set, test_set, optimizer, batch_size=1024)\n",
    "solver.train(num_epoch=10)"
   ]
  },
  {
   "cell_type": "code",
   "execution_count": null,
   "metadata": {},
   "outputs": [],
   "source": [
    "solver.evaluate(\"valid\")"
   ]
  }
 ],
 "metadata": {
  "kernelspec": {
   "display_name": "pt",
   "language": "python",
   "name": "pt"
  },
  "language_info": {
   "codemirror_mode": {
    "name": "ipython",
    "version": 3
   },
   "file_extension": ".py",
   "mimetype": "text/x-python",
   "name": "python",
   "nbconvert_exporter": "python",
   "pygments_lexer": "ipython3",
   "version": "3.8.16"
  },
  "orig_nbformat": 4
 },
 "nbformat": 4,
 "nbformat_minor": 2
}
