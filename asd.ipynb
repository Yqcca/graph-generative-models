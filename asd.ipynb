{
 "cells": [
  {
   "cell_type": "code",
   "execution_count": 1,
   "metadata": {},
   "outputs": [],
   "source": [
    "import torch\n",
    "from torchdrug import datasets\n",
    "\n",
    "# dataset = datasets.ZINC250k(\"~/molecule-datasets/\", kekulize=True,\n",
    "#                             atom_feature=\"symbol\")"
   ]
  },
  {
   "cell_type": "code",
   "execution_count": null,
   "metadata": {},
   "outputs": [],
   "source": [
    "from torch_geometric.utils import degree\n",
    "from pna import PNA"
   ]
  },
  {
   "cell_type": "code",
   "execution_count": null,
   "metadata": {},
   "outputs": [],
   "source": [
    "deg = torch.zeros(10, dtype=torch.long)\n",
    "for data in dataset:\n",
    "    graph = data['graph']\n",
    "    d = degree(graph.edge_list[:, 1], num_nodes=graph.num_node, dtype=torch.long)\n",
    "    deg += torch.bincount(d, minlength=deg.numel())\n",
    "\n",
    "PNA(input_dim=dataset.node_feature_dim,\n",
    "                  hidden_dim=256, num_layer=3,\n",
    "                  edge_input_dim=dataset.edge_feature_dim,\n",
    "                  num_relation=dataset.num_bond_type,\n",
    "                  aggregators=['mean'],\n",
    "                  scalers=['identity'],\n",
    "                  deg=deg, batch_norm=False)"
   ]
  },
  {
   "cell_type": "code",
   "execution_count": null,
   "metadata": {},
   "outputs": [],
   "source": [
    "from gsn import GSN\n",
    "from gsn import prepare_GSN_dataset\n",
    "prepare_GSN_dataset(dataset, max_cycle=8)"
   ]
  },
  {
   "cell_type": "code",
   "execution_count": null,
   "metadata": {},
   "outputs": [],
   "source": [
    "from torchdrug import core, models, tasks\n",
    "\n",
    "model = GSN(input_dim=dataset.node_feature_dim,\n",
    "                  hidden_dim=256, num_layer=3,\n",
    "                  edge_input_dim=dataset.edge_feature_dim,\n",
    "                  num_relation=dataset.num_bond_type,\n",
    "                  batch_norm=False)\n",
    "task = tasks.GCPNGeneration(model, dataset.atom_types, max_edge_unroll=12,\n",
    "                            max_node=38, criterion=\"nll\")"
   ]
  },
  {
   "cell_type": "code",
   "execution_count": null,
   "metadata": {},
   "outputs": [],
   "source": [
    "from torch import nn, optim\n",
    "optimizer = optim.Adam(task.parameters(), lr = 1e-3)\n",
    "solver = core.Engine(task, dataset, None, None, optimizer,\n",
    "                     batch_size=128, log_interval=10)\n",
    "\n",
    "solver.train(num_epoch=1)"
   ]
  }
 ],
 "metadata": {
  "kernelspec": {
   "display_name": "pt",
   "language": "python",
   "name": "pt"
  },
  "language_info": {
   "codemirror_mode": {
    "name": "ipython",
    "version": 3
   },
   "file_extension": ".py",
   "mimetype": "text/x-python",
   "name": "python",
   "nbconvert_exporter": "python",
   "pygments_lexer": "ipython3",
   "version": "3.8.16"
  },
  "orig_nbformat": 4
 },
 "nbformat": 4,
 "nbformat_minor": 2
}
