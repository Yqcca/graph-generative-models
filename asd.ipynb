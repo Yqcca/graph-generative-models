{
 "cells": [
  {
   "cell_type": "code",
   "execution_count": 1,
   "metadata": {},
   "outputs": [
    {
     "name": "stderr",
     "output_type": "stream",
     "text": [
      "Loading /Users/ca/molecule-datasets/clintox.csv: 100%|██████████| 1485/1485 [00:00<00:00, 66990.85it/s]\n",
      "Constructing molecules from SMILES:   0%|          | 0/1484 [00:00<?, ?it/s]/Users/ca/Desktop/graph-generative-models/torchdg0.2.0/torchdrug/data/feature.py:42: UserWarning: Unknown value `*`\n",
      "  warnings.warn(\"Unknown value `%s`\" % x)\n",
      "[02:16:55] Explicit valence for atom # 0 N, 5, is greater than permitted\n",
      "/Users/ca/Desktop/graph-generative-models/torchdg0.2.0/torchdrug/data/feature.py:42: UserWarning: Unknown value `Tc`\n",
      "  warnings.warn(\"Unknown value `%s`\" % x)\n",
      "/Users/ca/Desktop/graph-generative-models/torchdg0.2.0/torchdrug/data/feature.py:42: UserWarning: Unknown value `Fe`\n",
      "  warnings.warn(\"Unknown value `%s`\" % x)\n",
      "/Users/ca/Desktop/graph-generative-models/torchdg0.2.0/torchdrug/data/feature.py:42: UserWarning: Unknown value `Al`\n",
      "  warnings.warn(\"Unknown value `%s`\" % x)\n",
      "Constructing molecules from SMILES:   6%|▌         | 83/1484 [00:00<00:01, 816.62it/s]/Users/ca/Desktop/graph-generative-models/torchdg0.2.0/torchdrug/data/feature.py:42: UserWarning: Unknown value `Ca`\n",
      "  warnings.warn(\"Unknown value `%s`\" % x)\n",
      "Constructing molecules from SMILES:  11%|█         | 165/1484 [00:00<00:01, 705.48it/s]/Users/ca/Desktop/graph-generative-models/torchdg0.2.0/torchdrug/data/feature.py:42: UserWarning: Unknown value `Pt`\n",
      "  warnings.warn(\"Unknown value `%s`\" % x)\n",
      "Constructing molecules from SMILES:  16%|█▌        | 237/1484 [00:00<00:01, 662.89it/s][02:16:56] Can't kekulize mol.  Unkekulized atoms: 9\n",
      "Constructing molecules from SMILES:  21%|██        | 305/1484 [00:00<00:01, 668.22it/s]/Users/ca/Desktop/graph-generative-models/torchdg0.2.0/torchdrug/data/feature.py:42: UserWarning: Unknown value `Bi`\n",
      "  warnings.warn(\"Unknown value `%s`\" % x)\n",
      "Constructing molecules from SMILES:  63%|██████▎   | 940/1484 [00:01<00:01, 522.29it/s][02:16:57] Explicit valence for atom # 10 N, 4, is greater than permitted\n",
      "[02:16:57] Explicit valence for atom # 10 N, 4, is greater than permitted\n",
      "Constructing molecules from SMILES:  79%|███████▊  | 1167/1484 [00:02<00:00, 545.19it/s][02:16:57] Can't kekulize mol.  Unkekulized atoms: 4\n",
      "[02:16:57] Can't kekulize mol.  Unkekulized atoms: 4\n",
      "Constructing molecules from SMILES:  89%|████████▉ | 1327/1484 [00:02<00:00, 494.86it/s]/Users/ca/Desktop/graph-generative-models/torchdg0.2.0/torchdrug/data/feature.py:42: UserWarning: Unknown value `Au`\n",
      "  warnings.warn(\"Unknown value `%s`\" % x)\n",
      "/Users/ca/Desktop/graph-generative-models/torchdg0.2.0/torchdrug/data/feature.py:42: UserWarning: Unknown value `Tl`\n",
      "  warnings.warn(\"Unknown value `%s`\" % x)\n",
      "/Users/ca/Desktop/graph-generative-models/torchdg0.2.0/torchdrug/data/feature.py:42: UserWarning: Unknown value `Cr`\n",
      "  warnings.warn(\"Unknown value `%s`\" % x)\n",
      "/Users/ca/Desktop/graph-generative-models/torchdg0.2.0/torchdrug/data/feature.py:42: UserWarning: Unknown value `Mn`\n",
      "  warnings.warn(\"Unknown value `%s`\" % x)\n",
      "Constructing molecules from SMILES:  94%|█████████▍| 1396/1484 [00:02<00:00, 547.18it/s]/Users/ca/Desktop/graph-generative-models/torchdg0.2.0/torchdrug/data/feature.py:42: UserWarning: Unknown value `Hg`\n",
      "  warnings.warn(\"Unknown value `%s`\" % x)\n",
      "Constructing molecules from SMILES:  98%|█████████▊| 1458/1484 [00:02<00:00, 566.55it/s]/Users/ca/Desktop/graph-generative-models/torchdg0.2.0/torchdrug/data/feature.py:42: UserWarning: Unknown value `As`\n",
      "  warnings.warn(\"Unknown value `%s`\" % x)\n",
      "/Users/ca/Desktop/graph-generative-models/torchdg0.2.0/torchdrug/data/feature.py:42: UserWarning: Unknown value `Ti`\n",
      "  warnings.warn(\"Unknown value `%s`\" % x)\n",
      "Constructing molecules from SMILES: 100%|██████████| 1484/1484 [00:02<00:00, 569.81it/s]\n"
     ]
    }
   ],
   "source": [
    "from gatv2 import GATV2\n",
    "\n",
    "import torch\n",
    "from torchdrug import datasets\n",
    "\n",
    "dataset = datasets.ClinTox(\"~/molecule-datasets/\")\n",
    "# dataset = datasets.ZINC250k(\"~/molecule-datasets/\", kekulize=True, atom_feature=\"symbol\")"
   ]
  },
  {
   "cell_type": "code",
   "execution_count": null,
   "metadata": {},
   "outputs": [],
   "source": [
    "models.GearNet(input_dim=dataset.node_feature_dim,\n",
    "                    num_relation=dataset.num_bond_type,\n",
    "                    hidden_dims=[64, 64, 64], batch_norm=True)"
   ]
  },
  {
   "cell_type": "code",
   "execution_count": null,
   "metadata": {},
   "outputs": [],
   "source": [
    "from torch_geometric.utils import degree\n",
    "from pna import PNA"
   ]
  },
  {
   "cell_type": "code",
   "execution_count": null,
   "metadata": {},
   "outputs": [],
   "source": [
    "deg = torch.zeros(10, dtype=torch.long)\n",
    "for data in dataset:\n",
    "    graph = data['graph']\n",
    "    d = degree(graph.edge_list[:, 1], num_nodes=graph.num_node, dtype=torch.long)\n",
    "    deg += torch.bincount(d, minlength=deg.numel())\n",
    "\n",
    "PNA(input_dim=dataset.node_feature_dim,\n",
    "                  hidden_dim=64, num_layer=3,\n",
    "                  edge_input_dim=dataset.edge_feature_dim,\n",
    "                  num_relation=dataset.num_bond_type,\n",
    "                  aggregators=['mean'],\n",
    "                  scalers=['identity'],\n",
    "                  deg=deg, batch_norm=True)"
   ]
  },
  {
   "cell_type": "code",
   "execution_count": null,
   "metadata": {},
   "outputs": [],
   "source": [
    "from gsn import GSN\n",
    "from gsn import prepare_GSN_dataset\n",
    "prepare_GSN_dataset(dataset, max_cycle=8)\n",
    "\n",
    "GSN(input_dim=dataset.node_feature_dim,\n",
    "                  hidden_dim=64, num_layer=3,\n",
    "                  edge_input_dim=dataset.edge_feature_dim,\n",
    "                  num_relation=dataset.num_bond_type,\n",
    "                  batch_norm=True)"
   ]
  },
  {
   "cell_type": "code",
   "execution_count": 2,
   "metadata": {},
   "outputs": [],
   "source": [
    "from torchdrug import core, tasks\n",
    "\n",
    "model = GATV2(input_dim=dataset.node_feature_dim,\n",
    "                    num_relation=dataset.num_bond_type,\n",
    "                    hidden_dims=[256, 256, 256, 256], batch_norm=True)\n",
    "task = tasks.GCPNGeneration(model, dataset.atom_types, max_edge_unroll=12,\n",
    "                            max_node=38, criterion=\"nll\")"
   ]
  },
  {
   "cell_type": "code",
   "execution_count": 3,
   "metadata": {},
   "outputs": [
    {
     "name": "stdout",
     "output_type": "stream",
     "text": [
      "02:16:59   Preprocess training set\n",
      "02:16:59   {'batch_size': 128,\n",
      " 'class': 'core.Engine',\n",
      " 'gpus': None,\n",
      " 'gradient_interval': 1,\n",
      " 'log_interval': 10,\n",
      " 'logger': 'logging',\n",
      " 'num_worker': 0,\n",
      " 'optimizer': {'amsgrad': False,\n",
      "               'betas': (0.9, 0.999),\n",
      "               'class': 'optim.Adam',\n",
      "               'eps': 1e-08,\n",
      "               'lr': 0.001,\n",
      "               'weight_decay': 0},\n",
      " 'scheduler': None,\n",
      " 'task': {'agent_update_interval': 10,\n",
      "          'atom_types': [0, 1, 5, ..., 80, 81, 83],\n",
      "          'baseline_momentum': 0.9,\n",
      "          'class': 'tasks.GCPNGeneration',\n",
      "          'criterion': 'nll',\n",
      "          'gamma': 0.9,\n",
      "          'hidden_dim_mlp': 128,\n",
      "          'max_edge_unroll': 12,\n",
      "          'max_node': 38,\n",
      "          'model': {'activation': 'relu',\n",
      "                    'batch_norm': True,\n",
      "                    'class': 'GATV2',\n",
      "                    'concat_hidden': False,\n",
      "                    'edge_input_dim': None,\n",
      "                    'hidden_dims': [256, 256, 256, 256],\n",
      "                    'input_dim': 67,\n",
      "                    'negative_slope': 0.2,\n",
      "                    'num_head': 1,\n",
      "                    'num_relation': 4,\n",
      "                    'readout': 'sum',\n",
      "                    'short_cut': False},\n",
      "          'reward_temperature': 1,\n",
      "          'task': ()},\n",
      " 'test_set': None,\n",
      " 'train_set': {'class': 'datasets.ClinTox',\n",
      "               'path': '~/molecule-datasets/',\n",
      "               'verbose': 1},\n",
      " 'valid_set': None}\n",
      "02:16:59   >>>>>>>>>>>>>>>>>>>>>>>>>>>>>>\n",
      "02:16:59   Epoch 0 begin\n",
      "02:18:02   >>>>>>>>>>>>>>>>>>>>>>>>>>>>>>\n",
      "02:18:02   edge acc: 0.215222\n",
      "02:18:02   edge loss: 1.41153\n",
      "02:18:02   node1 acc: 0.182052\n",
      "02:18:02   node1 loss: 2.60881\n",
      "02:18:02   node2 acc: 0.0146567\n",
      "02:18:02   node2 loss: 3.82726\n",
      "02:18:02   stop acc: 0.527259\n",
      "02:18:02   stop bce loss: 0.724838\n",
      "02:18:02   total loss: 8.57243\n"
     ]
    },
    {
     "ename": "KeyboardInterrupt",
     "evalue": "",
     "output_type": "error",
     "traceback": [
      "\u001b[0;31m---------------------------------------------------------------------------\u001b[0m",
      "\u001b[0;31mKeyboardInterrupt\u001b[0m                         Traceback (most recent call last)",
      "Cell \u001b[0;32mIn[3], line 6\u001b[0m\n\u001b[1;32m      2\u001b[0m optimizer \u001b[39m=\u001b[39m optim\u001b[39m.\u001b[39mAdam(task\u001b[39m.\u001b[39mparameters(), lr \u001b[39m=\u001b[39m \u001b[39m1e-3\u001b[39m)\n\u001b[1;32m      3\u001b[0m solver \u001b[39m=\u001b[39m core\u001b[39m.\u001b[39mEngine(task, dataset, \u001b[39mNone\u001b[39;00m, \u001b[39mNone\u001b[39;00m, optimizer,\n\u001b[1;32m      4\u001b[0m                      batch_size\u001b[39m=\u001b[39m\u001b[39m128\u001b[39m, log_interval\u001b[39m=\u001b[39m\u001b[39m10\u001b[39m)\n\u001b[0;32m----> 6\u001b[0m solver\u001b[39m.\u001b[39;49mtrain(num_epoch\u001b[39m=\u001b[39;49m\u001b[39m1\u001b[39;49m)\n",
      "File \u001b[0;32m~/Desktop/graph-generative-models/torchdg0.2.0/torchdrug/core/engine.py:161\u001b[0m, in \u001b[0;36mEngine.train\u001b[0;34m(self, num_epoch, batch_per_epoch)\u001b[0m\n\u001b[1;32m    158\u001b[0m \u001b[39mif\u001b[39;00m \u001b[39mself\u001b[39m\u001b[39m.\u001b[39mdevice\u001b[39m.\u001b[39mtype \u001b[39m==\u001b[39m \u001b[39m\"\u001b[39m\u001b[39mcuda\u001b[39m\u001b[39m\"\u001b[39m:\n\u001b[1;32m    159\u001b[0m     batch \u001b[39m=\u001b[39m utils\u001b[39m.\u001b[39mcuda(batch, device\u001b[39m=\u001b[39m\u001b[39mself\u001b[39m\u001b[39m.\u001b[39mdevice)\n\u001b[0;32m--> 161\u001b[0m loss, metric \u001b[39m=\u001b[39m model(batch)\n\u001b[1;32m    162\u001b[0m \u001b[39mif\u001b[39;00m \u001b[39mnot\u001b[39;00m loss\u001b[39m.\u001b[39mrequires_grad:\n\u001b[1;32m    163\u001b[0m     \u001b[39mraise\u001b[39;00m \u001b[39mRuntimeError\u001b[39;00m(\u001b[39m\"\u001b[39m\u001b[39mLoss doesn\u001b[39m\u001b[39m'\u001b[39m\u001b[39mt require grad. Did you define any loss in the task?\u001b[39m\u001b[39m\"\u001b[39m)\n",
      "File \u001b[0;32m~/anaconda3/envs/pt/lib/python3.8/site-packages/torch/nn/modules/module.py:1051\u001b[0m, in \u001b[0;36mModule._call_impl\u001b[0;34m(self, *input, **kwargs)\u001b[0m\n\u001b[1;32m   1047\u001b[0m \u001b[39m# If we don't have any hooks, we want to skip the rest of the logic in\u001b[39;00m\n\u001b[1;32m   1048\u001b[0m \u001b[39m# this function, and just call forward.\u001b[39;00m\n\u001b[1;32m   1049\u001b[0m \u001b[39mif\u001b[39;00m \u001b[39mnot\u001b[39;00m (\u001b[39mself\u001b[39m\u001b[39m.\u001b[39m_backward_hooks \u001b[39mor\u001b[39;00m \u001b[39mself\u001b[39m\u001b[39m.\u001b[39m_forward_hooks \u001b[39mor\u001b[39;00m \u001b[39mself\u001b[39m\u001b[39m.\u001b[39m_forward_pre_hooks \u001b[39mor\u001b[39;00m _global_backward_hooks\n\u001b[1;32m   1050\u001b[0m         \u001b[39mor\u001b[39;00m _global_forward_hooks \u001b[39mor\u001b[39;00m _global_forward_pre_hooks):\n\u001b[0;32m-> 1051\u001b[0m     \u001b[39mreturn\u001b[39;00m forward_call(\u001b[39m*\u001b[39;49m\u001b[39minput\u001b[39;49m, \u001b[39m*\u001b[39;49m\u001b[39m*\u001b[39;49mkwargs)\n\u001b[1;32m   1052\u001b[0m \u001b[39m# Do not call functions when jit is used\u001b[39;00m\n\u001b[1;32m   1053\u001b[0m full_backward_hooks, non_full_backward_hooks \u001b[39m=\u001b[39m [], []\n",
      "File \u001b[0;32m~/Desktop/graph-generative-models/torchdg0.2.0/torchdrug/tasks/generation.py:847\u001b[0m, in \u001b[0;36mGCPNGeneration.forward\u001b[0;34m(self, batch)\u001b[0m\n\u001b[1;32m    845\u001b[0m \u001b[39mfor\u001b[39;00m criterion, weight \u001b[39min\u001b[39;00m \u001b[39mself\u001b[39m\u001b[39m.\u001b[39mcriterion\u001b[39m.\u001b[39mitems():\n\u001b[1;32m    846\u001b[0m     \u001b[39mif\u001b[39;00m criterion \u001b[39m==\u001b[39m \u001b[39m\"\u001b[39m\u001b[39mnll\u001b[39m\u001b[39m\"\u001b[39m:\n\u001b[0;32m--> 847\u001b[0m         _loss, _metric \u001b[39m=\u001b[39m \u001b[39mself\u001b[39;49m\u001b[39m.\u001b[39;49mMLE_forward(batch)\n\u001b[1;32m    848\u001b[0m         all_loss \u001b[39m+\u001b[39m\u001b[39m=\u001b[39m _loss \u001b[39m*\u001b[39m weight\n\u001b[1;32m    849\u001b[0m         metric\u001b[39m.\u001b[39mupdate(_metric)\n",
      "File \u001b[0;32m~/Desktop/graph-generative-models/torchdg0.2.0/torchdrug/tasks/generation.py:1222\u001b[0m, in \u001b[0;36mGCPNGeneration.MLE_forward\u001b[0;34m(self, batch)\u001b[0m\n\u001b[1;32m   1220\u001b[0m label4_target \u001b[39m=\u001b[39m torch\u001b[39m.\u001b[39mcat([stop_label4, edge_label4])\n\u001b[1;32m   1221\u001b[0m label_dict \u001b[39m=\u001b[39m {\u001b[39m\"\u001b[39m\u001b[39mlabel1\u001b[39m\u001b[39m\"\u001b[39m: label1_target, \u001b[39m\"\u001b[39m\u001b[39mlabel2\u001b[39m\u001b[39m\"\u001b[39m: label2_target, \u001b[39m\"\u001b[39m\u001b[39mlabel3\u001b[39m\u001b[39m\"\u001b[39m: label3_target, \u001b[39m\"\u001b[39m\u001b[39mlabel4\u001b[39m\u001b[39m\"\u001b[39m: label4_target}\n\u001b[0;32m-> 1222\u001b[0m stop_logits, node1_logits, node2_logits, edge_logits, index_dict \u001b[39m=\u001b[39m \u001b[39mself\u001b[39;49m\u001b[39m.\u001b[39;49mpredict(graph, label_dict)\n\u001b[1;32m   1224\u001b[0m loss_stop \u001b[39m=\u001b[39m F\u001b[39m.\u001b[39mnll_loss(F\u001b[39m.\u001b[39mlog_softmax(stop_logits, dim\u001b[39m=\u001b[39m\u001b[39m-\u001b[39m\u001b[39m1\u001b[39m), label4_target, reduction\u001b[39m=\u001b[39m\u001b[39m'\u001b[39m\u001b[39mnone\u001b[39m\u001b[39m'\u001b[39m)\n\u001b[1;32m   1225\u001b[0m loss_stop \u001b[39m=\u001b[39m \u001b[39m0.5\u001b[39m \u001b[39m*\u001b[39m (torch\u001b[39m.\u001b[39mmean(loss_stop[label4_target\u001b[39m==\u001b[39m\u001b[39m0\u001b[39m]) \u001b[39m+\u001b[39m torch\u001b[39m.\u001b[39mmean(loss_stop[label4_target\u001b[39m==\u001b[39m\u001b[39m1\u001b[39m]))\n",
      "File \u001b[0;32m~/Desktop/graph-generative-models/torchdg0.2.0/torchdrug/tasks/generation.py:862\u001b[0m, in \u001b[0;36mGCPNGeneration.predict\u001b[0;34m(self, graph, label_dict, use_agent)\u001b[0m\n\u001b[1;32m    859\u001b[0m \u001b[39mdef\u001b[39;00m \u001b[39mpredict\u001b[39m(\u001b[39mself\u001b[39m, graph, label_dict, use_agent\u001b[39m=\u001b[39m\u001b[39mFalse\u001b[39;00m):\n\u001b[1;32m    860\u001b[0m     \u001b[39m# step1: get node/graph embeddings\u001b[39;00m\n\u001b[1;32m    861\u001b[0m     \u001b[39mif\u001b[39;00m \u001b[39mnot\u001b[39;00m use_agent:\n\u001b[0;32m--> 862\u001b[0m         output \u001b[39m=\u001b[39m \u001b[39mself\u001b[39;49m\u001b[39m.\u001b[39;49mmodel(graph, graph\u001b[39m.\u001b[39;49mnode_feature\u001b[39m.\u001b[39;49mfloat())\n\u001b[1;32m    863\u001b[0m     \u001b[39melse\u001b[39;00m:\n\u001b[1;32m    864\u001b[0m         output \u001b[39m=\u001b[39m \u001b[39mself\u001b[39m\u001b[39m.\u001b[39magent_model(graph, graph\u001b[39m.\u001b[39mnode_feature\u001b[39m.\u001b[39mfloat())\n",
      "File \u001b[0;32m~/anaconda3/envs/pt/lib/python3.8/site-packages/torch/nn/modules/module.py:1051\u001b[0m, in \u001b[0;36mModule._call_impl\u001b[0;34m(self, *input, **kwargs)\u001b[0m\n\u001b[1;32m   1047\u001b[0m \u001b[39m# If we don't have any hooks, we want to skip the rest of the logic in\u001b[39;00m\n\u001b[1;32m   1048\u001b[0m \u001b[39m# this function, and just call forward.\u001b[39;00m\n\u001b[1;32m   1049\u001b[0m \u001b[39mif\u001b[39;00m \u001b[39mnot\u001b[39;00m (\u001b[39mself\u001b[39m\u001b[39m.\u001b[39m_backward_hooks \u001b[39mor\u001b[39;00m \u001b[39mself\u001b[39m\u001b[39m.\u001b[39m_forward_hooks \u001b[39mor\u001b[39;00m \u001b[39mself\u001b[39m\u001b[39m.\u001b[39m_forward_pre_hooks \u001b[39mor\u001b[39;00m _global_backward_hooks\n\u001b[1;32m   1050\u001b[0m         \u001b[39mor\u001b[39;00m _global_forward_hooks \u001b[39mor\u001b[39;00m _global_forward_pre_hooks):\n\u001b[0;32m-> 1051\u001b[0m     \u001b[39mreturn\u001b[39;00m forward_call(\u001b[39m*\u001b[39;49m\u001b[39minput\u001b[39;49m, \u001b[39m*\u001b[39;49m\u001b[39m*\u001b[39;49mkwargs)\n\u001b[1;32m   1052\u001b[0m \u001b[39m# Do not call functions when jit is used\u001b[39;00m\n\u001b[1;32m   1053\u001b[0m full_backward_hooks, non_full_backward_hooks \u001b[39m=\u001b[39m [], []\n",
      "File \u001b[0;32m~/Desktop/graph-generative-models/gatv2.py:159\u001b[0m, in \u001b[0;36mGATV2.forward\u001b[0;34m(self, graph, input, all_loss, metric)\u001b[0m\n\u001b[1;32m    156\u001b[0m layer_input \u001b[39m=\u001b[39m \u001b[39minput\u001b[39m\n\u001b[1;32m    158\u001b[0m \u001b[39mfor\u001b[39;00m layer \u001b[39min\u001b[39;00m \u001b[39mself\u001b[39m\u001b[39m.\u001b[39mlayers:\n\u001b[0;32m--> 159\u001b[0m     hidden \u001b[39m=\u001b[39m layer(graph, layer_input)\n\u001b[1;32m    160\u001b[0m     \u001b[39mif\u001b[39;00m \u001b[39mself\u001b[39m\u001b[39m.\u001b[39mshort_cut \u001b[39mand\u001b[39;00m hidden\u001b[39m.\u001b[39mshape \u001b[39m==\u001b[39m layer_input\u001b[39m.\u001b[39mshape:\n\u001b[1;32m    161\u001b[0m         hidden \u001b[39m=\u001b[39m hidden \u001b[39m+\u001b[39m layer_input\n",
      "File \u001b[0;32m~/anaconda3/envs/pt/lib/python3.8/site-packages/torch/nn/modules/module.py:1051\u001b[0m, in \u001b[0;36mModule._call_impl\u001b[0;34m(self, *input, **kwargs)\u001b[0m\n\u001b[1;32m   1047\u001b[0m \u001b[39m# If we don't have any hooks, we want to skip the rest of the logic in\u001b[39;00m\n\u001b[1;32m   1048\u001b[0m \u001b[39m# this function, and just call forward.\u001b[39;00m\n\u001b[1;32m   1049\u001b[0m \u001b[39mif\u001b[39;00m \u001b[39mnot\u001b[39;00m (\u001b[39mself\u001b[39m\u001b[39m.\u001b[39m_backward_hooks \u001b[39mor\u001b[39;00m \u001b[39mself\u001b[39m\u001b[39m.\u001b[39m_forward_hooks \u001b[39mor\u001b[39;00m \u001b[39mself\u001b[39m\u001b[39m.\u001b[39m_forward_pre_hooks \u001b[39mor\u001b[39;00m _global_backward_hooks\n\u001b[1;32m   1050\u001b[0m         \u001b[39mor\u001b[39;00m _global_forward_hooks \u001b[39mor\u001b[39;00m _global_forward_pre_hooks):\n\u001b[0;32m-> 1051\u001b[0m     \u001b[39mreturn\u001b[39;00m forward_call(\u001b[39m*\u001b[39;49m\u001b[39minput\u001b[39;49m, \u001b[39m*\u001b[39;49m\u001b[39m*\u001b[39;49mkwargs)\n\u001b[1;32m   1052\u001b[0m \u001b[39m# Do not call functions when jit is used\u001b[39;00m\n\u001b[1;32m   1053\u001b[0m full_backward_hooks, non_full_backward_hooks \u001b[39m=\u001b[39m [], []\n",
      "File \u001b[0;32m~/Desktop/graph-generative-models/torchdg0.2.0/torchdrug/layers/conv.py:91\u001b[0m, in \u001b[0;36mMessagePassingBase.forward\u001b[0;34m(self, graph, input)\u001b[0m\n\u001b[1;32m     89\u001b[0m     update \u001b[39m=\u001b[39m checkpoint\u001b[39m.\u001b[39mcheckpoint(\u001b[39mself\u001b[39m\u001b[39m.\u001b[39m_message_and_aggregate, \u001b[39m*\u001b[39mgraph\u001b[39m.\u001b[39mto_tensors(), \u001b[39minput\u001b[39m)\n\u001b[1;32m     90\u001b[0m \u001b[39melse\u001b[39;00m:\n\u001b[0;32m---> 91\u001b[0m     update \u001b[39m=\u001b[39m \u001b[39mself\u001b[39;49m\u001b[39m.\u001b[39;49mmessage_and_aggregate(graph, \u001b[39minput\u001b[39;49m)\n\u001b[1;32m     92\u001b[0m output \u001b[39m=\u001b[39m \u001b[39mself\u001b[39m\u001b[39m.\u001b[39mcombine(\u001b[39minput\u001b[39m, update)\n\u001b[1;32m     93\u001b[0m \u001b[39mreturn\u001b[39;00m output\n",
      "File \u001b[0;32m~/Desktop/graph-generative-models/torchdg0.2.0/torchdrug/layers/conv.py:60\u001b[0m, in \u001b[0;36mMessagePassingBase.message_and_aggregate\u001b[0;34m(self, graph, input)\u001b[0m\n\u001b[1;32m     47\u001b[0m \u001b[39mdef\u001b[39;00m \u001b[39mmessage_and_aggregate\u001b[39m(\u001b[39mself\u001b[39m, graph, \u001b[39minput\u001b[39m):\n\u001b[1;32m     48\u001b[0m \u001b[39m    \u001b[39m\u001b[39m\"\"\"\u001b[39;00m\n\u001b[1;32m     49\u001b[0m \u001b[39m    Fused computation of message and aggregation over the graph.\u001b[39;00m\n\u001b[1;32m     50\u001b[0m \u001b[39m    This may provide better time or memory complexity than separate calls of\u001b[39;00m\n\u001b[0;32m   (...)\u001b[0m\n\u001b[1;32m     58\u001b[0m \u001b[39m        Tensor: node updates of shape :math:`(|V|, ...)`\u001b[39;00m\n\u001b[1;32m     59\u001b[0m \u001b[39m    \"\"\"\u001b[39;00m\n\u001b[0;32m---> 60\u001b[0m     message \u001b[39m=\u001b[39m \u001b[39mself\u001b[39;49m\u001b[39m.\u001b[39;49mmessage(graph, \u001b[39minput\u001b[39;49m)\n\u001b[1;32m     61\u001b[0m     update \u001b[39m=\u001b[39m \u001b[39mself\u001b[39m\u001b[39m.\u001b[39maggregate(graph, message)\n\u001b[1;32m     62\u001b[0m     \u001b[39mreturn\u001b[39;00m update\n",
      "File \u001b[0;32m~/Desktop/graph-generative-models/gatv2.py:72\u001b[0m, in \u001b[0;36mGATV2Conv.message\u001b[0;34m(self, graph, input)\u001b[0m\n\u001b[1;32m     70\u001b[0m key \u001b[39m=\u001b[39m key\u001b[39m.\u001b[39mview(\u001b[39m-\u001b[39m\u001b[39m1\u001b[39m, \u001b[39m*\u001b[39m\u001b[39mself\u001b[39m\u001b[39m.\u001b[39mquery\u001b[39m.\u001b[39mshape)\n\u001b[1;32m     71\u001b[0m key \u001b[39m=\u001b[39m \u001b[39mself\u001b[39m\u001b[39m.\u001b[39mleaky_relu(key)\n\u001b[0;32m---> 72\u001b[0m weight \u001b[39m=\u001b[39m torch\u001b[39m.\u001b[39;49meinsum(\u001b[39m\"\u001b[39;49m\u001b[39mhd, nhd -> nh\u001b[39;49m\u001b[39m\"\u001b[39;49m, \u001b[39mself\u001b[39;49m\u001b[39m.\u001b[39;49mquery, key)\n\u001b[1;32m     74\u001b[0m weight \u001b[39m=\u001b[39m weight \u001b[39m-\u001b[39m scatter_max(weight, node_out, dim\u001b[39m=\u001b[39m\u001b[39m0\u001b[39m, dim_size\u001b[39m=\u001b[39mgraph\u001b[39m.\u001b[39mnum_node)[\u001b[39m0\u001b[39m][node_out]\n\u001b[1;32m     75\u001b[0m attention \u001b[39m=\u001b[39m weight\u001b[39m.\u001b[39mexp() \u001b[39m*\u001b[39m edge_weight\n",
      "File \u001b[0;32m~/anaconda3/envs/pt/lib/python3.8/site-packages/torch/functional.py:299\u001b[0m, in \u001b[0;36meinsum\u001b[0;34m(equation, *operands)\u001b[0m\n\u001b[1;32m    295\u001b[0m     \u001b[39m# recurse incase operands contains value that has torch function\u001b[39;00m\n\u001b[1;32m    296\u001b[0m     \u001b[39m# in the original implementation this line is omitted\u001b[39;00m\n\u001b[1;32m    297\u001b[0m     \u001b[39mreturn\u001b[39;00m einsum(equation, \u001b[39m*\u001b[39m_operands)\n\u001b[0;32m--> 299\u001b[0m \u001b[39mreturn\u001b[39;00m _VF\u001b[39m.\u001b[39;49meinsum(equation, operands)\n",
      "\u001b[0;31mKeyboardInterrupt\u001b[0m: "
     ]
    }
   ],
   "source": [
    "from torch import nn, optim\n",
    "optimizer = optim.Adam(task.parameters(), lr = 1e-3)\n",
    "solver = core.Engine(task, dataset, None, None, optimizer,\n",
    "                     batch_size=128, log_interval=10)\n",
    "\n",
    "solver.train(num_epoch=1)"
   ]
  }
 ],
 "metadata": {
  "kernelspec": {
   "display_name": "pt",
   "language": "python",
   "name": "pt"
  },
  "language_info": {
   "codemirror_mode": {
    "name": "ipython",
    "version": 3
   },
   "file_extension": ".py",
   "mimetype": "text/x-python",
   "name": "python",
   "nbconvert_exporter": "python",
   "pygments_lexer": "ipython3",
   "version": "3.8.16"
  },
  "orig_nbformat": 4
 },
 "nbformat": 4,
 "nbformat_minor": 2
}
