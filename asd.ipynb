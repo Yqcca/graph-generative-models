{
 "cells": [
  {
   "cell_type": "code",
   "execution_count": 2,
   "metadata": {},
   "outputs": [
    {
     "name": "stderr",
     "output_type": "stream",
     "text": [
      "Loading /Users/ca/molecule-datasets/clintox.csv: 100%|██████████| 1485/1485 [00:00<00:00, 64305.24it/s]\n",
      "Constructing molecules from SMILES:   0%|          | 0/1484 [00:00<?, ?it/s]/Users/ca/Desktop/graph-generative-models/torchdg0.2.0/torchdrug/data/feature.py:42: UserWarning: Unknown value `*`\n",
      "  warnings.warn(\"Unknown value `%s`\" % x)\n",
      "[20:33:34] Explicit valence for atom # 0 N, 5, is greater than permitted\n",
      "/Users/ca/Desktop/graph-generative-models/torchdg0.2.0/torchdrug/data/feature.py:42: UserWarning: Unknown value `Tc`\n",
      "  warnings.warn(\"Unknown value `%s`\" % x)\n",
      "/Users/ca/Desktop/graph-generative-models/torchdg0.2.0/torchdrug/data/feature.py:42: UserWarning: Unknown value `Fe`\n",
      "  warnings.warn(\"Unknown value `%s`\" % x)\n",
      "/Users/ca/Desktop/graph-generative-models/torchdg0.2.0/torchdrug/data/feature.py:42: UserWarning: Unknown value `Al`\n",
      "  warnings.warn(\"Unknown value `%s`\" % x)\n",
      "Constructing molecules from SMILES:   5%|▍         | 67/1484 [00:00<00:02, 669.37it/s]/Users/ca/Desktop/graph-generative-models/torchdg0.2.0/torchdrug/data/feature.py:42: UserWarning: Unknown value `Ca`\n",
      "  warnings.warn(\"Unknown value `%s`\" % x)\n",
      "Constructing molecules from SMILES:   9%|▉         | 134/1484 [00:00<00:02, 605.95it/s]/Users/ca/Desktop/graph-generative-models/torchdg0.2.0/torchdrug/data/feature.py:42: UserWarning: Unknown value `Pt`\n",
      "  warnings.warn(\"Unknown value `%s`\" % x)\n",
      "Constructing molecules from SMILES:  18%|█▊        | 264/1484 [00:00<00:02, 605.68it/s][20:33:35] Can't kekulize mol.  Unkekulized atoms: 9\n",
      "/Users/ca/Desktop/graph-generative-models/torchdg0.2.0/torchdrug/data/feature.py:42: UserWarning: Unknown value `Bi`\n",
      "  warnings.warn(\"Unknown value `%s`\" % x)\n",
      "Constructing molecules from SMILES:  65%|██████▍   | 960/1484 [00:01<00:01, 459.20it/s][20:33:36] Explicit valence for atom # 10 N, 4, is greater than permitted\n",
      "[20:33:36] Explicit valence for atom # 10 N, 4, is greater than permitted\n",
      "Constructing molecules from SMILES:  81%|████████▏ | 1206/1484 [00:02<00:00, 476.45it/s][20:33:37] Can't kekulize mol.  Unkekulized atoms: 4\n",
      "[20:33:37] Can't kekulize mol.  Unkekulized atoms: 4\n",
      "Constructing molecules from SMILES:  91%|█████████ | 1345/1484 [00:02<00:00, 417.47it/s]/Users/ca/Desktop/graph-generative-models/torchdg0.2.0/torchdrug/data/feature.py:42: UserWarning: Unknown value `Au`\n",
      "  warnings.warn(\"Unknown value `%s`\" % x)\n",
      "/Users/ca/Desktop/graph-generative-models/torchdg0.2.0/torchdrug/data/feature.py:42: UserWarning: Unknown value `Tl`\n",
      "  warnings.warn(\"Unknown value `%s`\" % x)\n",
      "/Users/ca/Desktop/graph-generative-models/torchdg0.2.0/torchdrug/data/feature.py:42: UserWarning: Unknown value `Cr`\n",
      "  warnings.warn(\"Unknown value `%s`\" % x)\n",
      "/Users/ca/Desktop/graph-generative-models/torchdg0.2.0/torchdrug/data/feature.py:42: UserWarning: Unknown value `Mn`\n",
      "  warnings.warn(\"Unknown value `%s`\" % x)\n",
      "Constructing molecules from SMILES:  94%|█████████▎| 1391/1484 [00:02<00:00, 426.95it/s]/Users/ca/Desktop/graph-generative-models/torchdg0.2.0/torchdrug/data/feature.py:42: UserWarning: Unknown value `Hg`\n",
      "  warnings.warn(\"Unknown value `%s`\" % x)\n",
      "Constructing molecules from SMILES:  97%|█████████▋| 1444/1484 [00:02<00:00, 452.44it/s]/Users/ca/Desktop/graph-generative-models/torchdg0.2.0/torchdrug/data/feature.py:42: UserWarning: Unknown value `As`\n",
      "  warnings.warn(\"Unknown value `%s`\" % x)\n",
      "/Users/ca/Desktop/graph-generative-models/torchdg0.2.0/torchdrug/data/feature.py:42: UserWarning: Unknown value `Ti`\n",
      "  warnings.warn(\"Unknown value `%s`\" % x)\n",
      "Constructing molecules from SMILES: 100%|██████████| 1484/1484 [00:03<00:00, 486.23it/s]\n"
     ]
    }
   ],
   "source": [
    "from gatv2 import GATV2\n",
    "\n",
    "import torch\n",
    "from torchdrug import datasets\n",
    "\n",
    "dataset = datasets.ClinTox(\"~/molecule-datasets/\")\n",
    "#dataset = datasets.ZINC250k(\"~/molecule-datasets/\", kekulize=True, atom_feature=\"symbol\")"
   ]
  },
  {
   "cell_type": "code",
   "execution_count": 5,
   "metadata": {},
   "outputs": [],
   "source": [
    "from typing import Optional\n",
    "import torch\n",
    "from torch import Tensor\n",
    "\n",
    "from torch_geometric.utils.num_nodes import maybe_num_nodes\n",
    "\n",
    "\n",
    "def degree(index: Tensor, num_nodes: Optional[int] = None,\n",
    "           dtype: Optional[torch.dtype] = None) -> Tensor:\n",
    "    N = maybe_num_nodes(index, num_nodes)\n",
    "    out = torch.zeros((N, ), dtype=dtype, device=index.device)\n",
    "    one = torch.ones((index.size(0), ), dtype=out.dtype, device=out.device)\n",
    "    return out.scatter_add_(0, index, one)"
   ]
  },
  {
   "cell_type": "code",
   "execution_count": 18,
   "metadata": {},
   "outputs": [],
   "source": [
    "import torch\n",
    "from torchdrug import core, models, tasks\n",
    "from torch import nn, optim\n",
    "from collections import defaultdict\n",
    "from torchdrug.layers import distribution"
   ]
  },
  {
   "cell_type": "code",
   "execution_count": null,
   "metadata": {},
   "outputs": [],
   "source": [
    "salloc --account=su114-gpu -p gpu -N 1 -n 1 -c 42 --mem-per-cpu=3860 --gres=gpu:ampere_a100:1 --time=0:30:00"
   ]
  },
  {
   "cell_type": "code",
   "execution_count": null,
   "metadata": {},
   "outputs": [],
   "source": [
    "model = models.RGCN(input_dim=dataset.node_feature_dim,\n",
    "                    num_relation=dataset.num_bond_type,edge_input_dim=dataset.edge_feature_dim,\n",
    "                    hidden_dims=[256, 256, 256], batch_norm=True)"
   ]
  },
  {
   "cell_type": "code",
   "execution_count": 53,
   "metadata": {},
   "outputs": [],
   "source": [
    "deg = torch.zeros(10, dtype=torch.long)\n",
    "\n",
    "model = PNA(input_dim=dataset.node_feature_dim,\n",
    "                  hidden_dim=64, num_layer=3,\n",
    "                  edge_input_dim=None,\n",
    "                  num_relation=dataset.num_bond_type,\n",
    "                  aggregators=['mean'],\n",
    "                  scalers=['identity'],\n",
    "                  deg=deg, batch_norm=True)"
   ]
  },
  {
   "cell_type": "code",
   "execution_count": 54,
   "metadata": {},
   "outputs": [],
   "source": [
    "num_atom_type = dataset.num_atom_type\n",
    "# add one class for non-edge\n",
    "num_bond_type = dataset.num_bond_type + 1\n",
    "\n",
    "node_prior = distribution.IndependentGaussian(torch.zeros(num_atom_type),\n",
    "                                              torch.ones(num_atom_type))\n",
    "edge_prior = distribution.IndependentGaussian(torch.zeros(num_bond_type),\n",
    "                                              torch.ones(num_bond_type))\n",
    "node_flow = models.GraphAF(model, node_prior, num_layer=1)\n",
    "edge_flow = models.GraphAF(model, edge_prior, use_edge=True, num_layer=1)"
   ]
  },
  {
   "cell_type": "code",
   "execution_count": 55,
   "metadata": {},
   "outputs": [],
   "source": [
    "task = tasks.AutoregressiveGeneration(node_flow, edge_flow,\n",
    "                                      max_node=38, max_edge_unroll=12,\n",
    "                                      task=\"plogp\", criterion=\"ppo\",\n",
    "                                      reward_temperature=1, baseline_momentum=0.9,\n",
    "                                      agent_update_interval=5, gamma=0.9)"
   ]
  },
  {
   "cell_type": "code",
   "execution_count": null,
   "metadata": {},
   "outputs": [],
   "source": [
    "models.GearNet(input_dim=dataset.node_feature_dim,\n",
    "                    num_relation=dataset.num_bond_type,\n",
    "                    hidden_dims=[64, 64, 64], batch_norm=True)"
   ]
  },
  {
   "cell_type": "code",
   "execution_count": null,
   "metadata": {},
   "outputs": [],
   "source": [
    "deg = torch.zeros(10, dtype=torch.long)\n",
    "for data in dataset:\n",
    "    graph = data['graph']\n",
    "    d = degree(graph.edge_list[:, 1], num_nodes=graph.num_node, dtype=torch.long)\n",
    "    deg += torch.bincount(d, minlength=deg.numel())\n",
    "\n",
    "PNA(input_dim=dataset.node_feature_dim,\n",
    "                  hidden_dim=64, num_layer=3,\n",
    "                  edge_input_dim=dataset.edge_feature_dim,\n",
    "                  num_relation=dataset.num_bond_type,\n",
    "                  aggregators=['mean'],\n",
    "                  scalers=['identity'],\n",
    "                  deg=deg, batch_norm=True)"
   ]
  },
  {
   "cell_type": "code",
   "execution_count": null,
   "metadata": {},
   "outputs": [],
   "source": [
    "from gsn import GSN\n",
    "from gsn import prepare_GSN_dataset\n",
    "prepare_GSN_dataset(dataset, max_cycle=8)\n",
    "\n",
    "GSN(input_dim=dataset.node_feature_dim,\n",
    "                  hidden_dim=64, num_layer=3,\n",
    "                  edge_input_dim=dataset.edge_feature_dim,\n",
    "                  num_relation=dataset.num_bond_type,\n",
    "                  batch_norm=True)"
   ]
  },
  {
   "cell_type": "code",
   "execution_count": null,
   "metadata": {},
   "outputs": [],
   "source": [
    "from torchdrug import core, tasks\n",
    "\n",
    "model = GATV2(input_dim=dataset.node_feature_dim,\n",
    "                    num_relation=dataset.num_bond_type,\n",
    "                    hidden_dims=[256, 256, 256, 256], batch_norm=True)\n",
    "task = tasks.GCPNGeneration(model, dataset.atom_types, max_edge_unroll=12,\n",
    "                            max_node=38, criterion=\"nll\")"
   ]
  }
 ],
 "metadata": {
  "kernelspec": {
   "display_name": "pt",
   "language": "python",
   "name": "pt"
  },
  "language_info": {
   "codemirror_mode": {
    "name": "ipython",
    "version": 3
   },
   "file_extension": ".py",
   "mimetype": "text/x-python",
   "name": "python",
   "nbconvert_exporter": "python",
   "pygments_lexer": "ipython3",
   "version": "3.8.16"
  },
  "orig_nbformat": 4
 },
 "nbformat": 4,
 "nbformat_minor": 2
}
