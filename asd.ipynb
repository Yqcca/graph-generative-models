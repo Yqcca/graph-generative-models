{
 "cells": [
  {
   "cell_type": "code",
   "execution_count": 6,
   "metadata": {},
   "outputs": [
    {
     "name": "stderr",
     "output_type": "stream",
     "text": [
      "Loading /Users/ca/molecule-datasets/250k_rndm_zinc_drugs_clean_3.csv:  50%|█████     | 249456/498911 [00:03<00:03, 71432.88it/s]\n",
      "Constructing molecules from SMILES: 100%|██████████| 249455/249455 [06:07<00:00, 678.36it/s]\n"
     ]
    }
   ],
   "source": [
    "import torch\n",
    "from torchdrug import datasets\n",
    "\n",
    "dataset = datasets.ZINC250k(\"~/molecule-datasets/\", kekulize=True,\n",
    "                            atom_feature=\"symbol\")"
   ]
  },
  {
   "cell_type": "code",
   "execution_count": 7,
   "metadata": {},
   "outputs": [],
   "source": [
    "from pna import PNA\n",
    "from torch_geometric.utils import degree"
   ]
  },
  {
   "cell_type": "code",
   "execution_count": 11,
   "metadata": {},
   "outputs": [
    {
     "data": {
      "text/plain": [
       "PNA(\n",
       "  (node_encoder): Linear(in_features=18, out_features=256, bias=True)\n",
       "  (layers): ModuleList(\n",
       "    (0): PNALayer(256, 256, towers=1)\n",
       "    (1): PNALayer(256, 256, towers=1)\n",
       "    (2): PNALayer(256, 256, towers=1)\n",
       "  )\n",
       "  (readout): SumReadout()\n",
       ")"
      ]
     },
     "execution_count": 11,
     "metadata": {},
     "output_type": "execute_result"
    }
   ],
   "source": [
    "deg = torch.zeros(10, dtype=torch.long)\n",
    "for data in dataset:\n",
    "    graph = data['graph']\n",
    "    d = degree(graph.edge_list[:, 1], num_nodes=graph.num_node, dtype=torch.long)\n",
    "    deg += torch.bincount(d, minlength=deg.numel())\n",
    "\n",
    "PNA(input_dim=dataset.node_feature_dim,\n",
    "                  hidden_dim=256, num_layer=3,\n",
    "                  edge_input_dim=dataset.edge_feature_dim,\n",
    "                  num_relation=dataset.num_bond_type,\n",
    "                  aggregators=['mean'],\n",
    "                  scalers=['identity'],\n",
    "                  deg=deg, batch_norm=False)"
   ]
  },
  {
   "cell_type": "code",
   "execution_count": 9,
   "metadata": {},
   "outputs": [],
   "source": [
    "from gsn import GSN\n",
    "from gsn import prepare_GSN_dataset\n",
    "prepare_GSN_dataset(dataset, max_cycle=8)"
   ]
  },
  {
   "cell_type": "code",
   "execution_count": 12,
   "metadata": {},
   "outputs": [],
   "source": [
    "from torchdrug import core, models, tasks\n",
    "\n",
    "model = GSN(input_dim=dataset.node_feature_dim,\n",
    "                  hidden_dim=256, num_layer=3,\n",
    "                  edge_input_dim=dataset.edge_feature_dim,\n",
    "                  num_relation=dataset.num_bond_type,\n",
    "                  batch_norm=False)\n",
    "task = tasks.GCPNGeneration(model, dataset.atom_types, max_edge_unroll=12,\n",
    "                            max_node=38, criterion=\"nll\")"
   ]
  },
  {
   "cell_type": "code",
   "execution_count": 13,
   "metadata": {},
   "outputs": [
    {
     "name": "stdout",
     "output_type": "stream",
     "text": [
      "14:35:11   Preprocess training set\n",
      "14:35:12   {'batch_size': 128,\n",
      " 'class': 'core.Engine',\n",
      " 'gpus': None,\n",
      " 'gradient_interval': 1,\n",
      " 'log_interval': 10,\n",
      " 'logger': 'logging',\n",
      " 'num_worker': 0,\n",
      " 'optimizer': {'amsgrad': False,\n",
      "               'betas': (0.9, 0.999),\n",
      "               'class': 'optim.Adam',\n",
      "               'eps': 1e-08,\n",
      "               'lr': 0.001,\n",
      "               'weight_decay': 0},\n",
      " 'scheduler': None,\n",
      " 'task': {'agent_update_interval': 10,\n",
      "          'atom_types': [6, 7, 8, 9, 15, 16, 17, 35, 53],\n",
      "          'baseline_momentum': 0.9,\n",
      "          'class': 'tasks.GCPNGeneration',\n",
      "          'criterion': 'nll',\n",
      "          'gamma': 0.9,\n",
      "          'hidden_dim_mlp': 128,\n",
      "          'max_edge_unroll': 12,\n",
      "          'max_node': 38,\n",
      "          'model': {'activation': 'relu',\n",
      "                    'batch_norm': False,\n",
      "                    'class': 'GSN',\n",
      "                    'concat_hidden': False,\n",
      "                    'edge_input_dim': 18,\n",
      "                    'hidden_dim': 256,\n",
      "                    'input_dim': 18,\n",
      "                    'max_cycle': 8,\n",
      "                    'num_layer': 3,\n",
      "                    'num_mlp_layer': 2,\n",
      "                    'num_relation': 3,\n",
      "                    'readout': 'sum',\n",
      "                    'short_cut': False},\n",
      "          'reward_temperature': 1,\n",
      "          'task': ()},\n",
      " 'test_set': None,\n",
      " 'train_set': {'atom_feature': 'symbol',\n",
      "               'class': 'datasets.ZINC250k',\n",
      "               'kekulize': True,\n",
      "               'path': '~/molecule-datasets/',\n",
      "               'verbose': 1},\n",
      " 'valid_set': None}\n",
      "14:35:12   >>>>>>>>>>>>>>>>>>>>>>>>>>>>>>\n",
      "14:35:12   Epoch 0 begin\n",
      "14:35:55   >>>>>>>>>>>>>>>>>>>>>>>>>>>>>>\n",
      "14:35:55   edge acc: 0.0031348\n",
      "14:35:55   edge loss: 1.12449\n",
      "14:35:55   node1 acc: 0.152038\n",
      "14:35:55   node1 loss: 2.27595\n",
      "14:35:55   node2 acc: 0.0915361\n",
      "14:35:55   node2 loss: 2.92411\n",
      "14:35:55   stop acc: 0.961423\n",
      "14:35:55   stop bce loss: 0.748643\n",
      "14:35:55   total loss: 7.07319\n"
     ]
    },
    {
     "ename": "KeyboardInterrupt",
     "evalue": "",
     "output_type": "error",
     "traceback": [
      "\u001b[0;31m---------------------------------------------------------------------------\u001b[0m",
      "\u001b[0;31mKeyboardInterrupt\u001b[0m                         Traceback (most recent call last)",
      "Cell \u001b[0;32mIn[13], line 6\u001b[0m\n\u001b[1;32m      2\u001b[0m optimizer \u001b[39m=\u001b[39m optim\u001b[39m.\u001b[39mAdam(task\u001b[39m.\u001b[39mparameters(), lr \u001b[39m=\u001b[39m \u001b[39m1e-3\u001b[39m)\n\u001b[1;32m      3\u001b[0m solver \u001b[39m=\u001b[39m core\u001b[39m.\u001b[39mEngine(task, dataset, \u001b[39mNone\u001b[39;00m, \u001b[39mNone\u001b[39;00m, optimizer,\n\u001b[1;32m      4\u001b[0m                      batch_size\u001b[39m=\u001b[39m\u001b[39m128\u001b[39m, log_interval\u001b[39m=\u001b[39m\u001b[39m10\u001b[39m)\n\u001b[0;32m----> 6\u001b[0m solver\u001b[39m.\u001b[39;49mtrain(num_epoch\u001b[39m=\u001b[39;49m\u001b[39m1\u001b[39;49m)\n",
      "File \u001b[0;32m~/Desktop/graph-generative-models/torchdg0.2.0/torchdrug/core/engine.py:161\u001b[0m, in \u001b[0;36mEngine.train\u001b[0;34m(self, num_epoch, batch_per_epoch)\u001b[0m\n\u001b[1;32m    158\u001b[0m \u001b[39mif\u001b[39;00m \u001b[39mself\u001b[39m\u001b[39m.\u001b[39mdevice\u001b[39m.\u001b[39mtype \u001b[39m==\u001b[39m \u001b[39m\"\u001b[39m\u001b[39mcuda\u001b[39m\u001b[39m\"\u001b[39m:\n\u001b[1;32m    159\u001b[0m     batch \u001b[39m=\u001b[39m utils\u001b[39m.\u001b[39mcuda(batch, device\u001b[39m=\u001b[39m\u001b[39mself\u001b[39m\u001b[39m.\u001b[39mdevice)\n\u001b[0;32m--> 161\u001b[0m loss, metric \u001b[39m=\u001b[39m model(batch)\n\u001b[1;32m    162\u001b[0m \u001b[39mif\u001b[39;00m \u001b[39mnot\u001b[39;00m loss\u001b[39m.\u001b[39mrequires_grad:\n\u001b[1;32m    163\u001b[0m     \u001b[39mraise\u001b[39;00m \u001b[39mRuntimeError\u001b[39;00m(\u001b[39m\"\u001b[39m\u001b[39mLoss doesn\u001b[39m\u001b[39m'\u001b[39m\u001b[39mt require grad. Did you define any loss in the task?\u001b[39m\u001b[39m\"\u001b[39m)\n",
      "File \u001b[0;32m~/anaconda3/envs/pt/lib/python3.8/site-packages/torch/nn/modules/module.py:1051\u001b[0m, in \u001b[0;36mModule._call_impl\u001b[0;34m(self, *input, **kwargs)\u001b[0m\n\u001b[1;32m   1047\u001b[0m \u001b[39m# If we don't have any hooks, we want to skip the rest of the logic in\u001b[39;00m\n\u001b[1;32m   1048\u001b[0m \u001b[39m# this function, and just call forward.\u001b[39;00m\n\u001b[1;32m   1049\u001b[0m \u001b[39mif\u001b[39;00m \u001b[39mnot\u001b[39;00m (\u001b[39mself\u001b[39m\u001b[39m.\u001b[39m_backward_hooks \u001b[39mor\u001b[39;00m \u001b[39mself\u001b[39m\u001b[39m.\u001b[39m_forward_hooks \u001b[39mor\u001b[39;00m \u001b[39mself\u001b[39m\u001b[39m.\u001b[39m_forward_pre_hooks \u001b[39mor\u001b[39;00m _global_backward_hooks\n\u001b[1;32m   1050\u001b[0m         \u001b[39mor\u001b[39;00m _global_forward_hooks \u001b[39mor\u001b[39;00m _global_forward_pre_hooks):\n\u001b[0;32m-> 1051\u001b[0m     \u001b[39mreturn\u001b[39;00m forward_call(\u001b[39m*\u001b[39;49m\u001b[39minput\u001b[39;49m, \u001b[39m*\u001b[39;49m\u001b[39m*\u001b[39;49mkwargs)\n\u001b[1;32m   1052\u001b[0m \u001b[39m# Do not call functions when jit is used\u001b[39;00m\n\u001b[1;32m   1053\u001b[0m full_backward_hooks, non_full_backward_hooks \u001b[39m=\u001b[39m [], []\n",
      "File \u001b[0;32m~/Desktop/graph-generative-models/torchdg0.2.0/torchdrug/tasks/generation.py:847\u001b[0m, in \u001b[0;36mGCPNGeneration.forward\u001b[0;34m(self, batch)\u001b[0m\n\u001b[1;32m    845\u001b[0m \u001b[39mfor\u001b[39;00m criterion, weight \u001b[39min\u001b[39;00m \u001b[39mself\u001b[39m\u001b[39m.\u001b[39mcriterion\u001b[39m.\u001b[39mitems():\n\u001b[1;32m    846\u001b[0m     \u001b[39mif\u001b[39;00m criterion \u001b[39m==\u001b[39m \u001b[39m\"\u001b[39m\u001b[39mnll\u001b[39m\u001b[39m\"\u001b[39m:\n\u001b[0;32m--> 847\u001b[0m         _loss, _metric \u001b[39m=\u001b[39m \u001b[39mself\u001b[39;49m\u001b[39m.\u001b[39;49mMLE_forward(batch)\n\u001b[1;32m    848\u001b[0m         all_loss \u001b[39m+\u001b[39m\u001b[39m=\u001b[39m _loss \u001b[39m*\u001b[39m weight\n\u001b[1;32m    849\u001b[0m         metric\u001b[39m.\u001b[39mupdate(_metric)\n",
      "File \u001b[0;32m~/Desktop/graph-generative-models/torchdg0.2.0/torchdrug/tasks/generation.py:1222\u001b[0m, in \u001b[0;36mGCPNGeneration.MLE_forward\u001b[0;34m(self, batch)\u001b[0m\n\u001b[1;32m   1220\u001b[0m label4_target \u001b[39m=\u001b[39m torch\u001b[39m.\u001b[39mcat([stop_label4, edge_label4])\n\u001b[1;32m   1221\u001b[0m label_dict \u001b[39m=\u001b[39m {\u001b[39m\"\u001b[39m\u001b[39mlabel1\u001b[39m\u001b[39m\"\u001b[39m: label1_target, \u001b[39m\"\u001b[39m\u001b[39mlabel2\u001b[39m\u001b[39m\"\u001b[39m: label2_target, \u001b[39m\"\u001b[39m\u001b[39mlabel3\u001b[39m\u001b[39m\"\u001b[39m: label3_target, \u001b[39m\"\u001b[39m\u001b[39mlabel4\u001b[39m\u001b[39m\"\u001b[39m: label4_target}\n\u001b[0;32m-> 1222\u001b[0m stop_logits, node1_logits, node2_logits, edge_logits, index_dict \u001b[39m=\u001b[39m \u001b[39mself\u001b[39;49m\u001b[39m.\u001b[39;49mpredict(graph, label_dict)\n\u001b[1;32m   1224\u001b[0m loss_stop \u001b[39m=\u001b[39m F\u001b[39m.\u001b[39mnll_loss(F\u001b[39m.\u001b[39mlog_softmax(stop_logits, dim\u001b[39m=\u001b[39m\u001b[39m-\u001b[39m\u001b[39m1\u001b[39m), label4_target, reduction\u001b[39m=\u001b[39m\u001b[39m'\u001b[39m\u001b[39mnone\u001b[39m\u001b[39m'\u001b[39m)\n\u001b[1;32m   1225\u001b[0m loss_stop \u001b[39m=\u001b[39m \u001b[39m0.5\u001b[39m \u001b[39m*\u001b[39m (torch\u001b[39m.\u001b[39mmean(loss_stop[label4_target\u001b[39m==\u001b[39m\u001b[39m0\u001b[39m]) \u001b[39m+\u001b[39m torch\u001b[39m.\u001b[39mmean(loss_stop[label4_target\u001b[39m==\u001b[39m\u001b[39m1\u001b[39m]))\n",
      "File \u001b[0;32m~/Desktop/graph-generative-models/torchdg0.2.0/torchdrug/tasks/generation.py:862\u001b[0m, in \u001b[0;36mGCPNGeneration.predict\u001b[0;34m(self, graph, label_dict, use_agent)\u001b[0m\n\u001b[1;32m    859\u001b[0m \u001b[39mdef\u001b[39;00m \u001b[39mpredict\u001b[39m(\u001b[39mself\u001b[39m, graph, label_dict, use_agent\u001b[39m=\u001b[39m\u001b[39mFalse\u001b[39;00m):\n\u001b[1;32m    860\u001b[0m     \u001b[39m# step1: get node/graph embeddings\u001b[39;00m\n\u001b[1;32m    861\u001b[0m     \u001b[39mif\u001b[39;00m \u001b[39mnot\u001b[39;00m use_agent:\n\u001b[0;32m--> 862\u001b[0m         output \u001b[39m=\u001b[39m \u001b[39mself\u001b[39;49m\u001b[39m.\u001b[39;49mmodel(graph, graph\u001b[39m.\u001b[39;49mnode_feature\u001b[39m.\u001b[39;49mfloat())\n\u001b[1;32m    863\u001b[0m     \u001b[39melse\u001b[39;00m:\n\u001b[1;32m    864\u001b[0m         output \u001b[39m=\u001b[39m \u001b[39mself\u001b[39m\u001b[39m.\u001b[39magent_model(graph, graph\u001b[39m.\u001b[39mnode_feature\u001b[39m.\u001b[39mfloat())\n",
      "File \u001b[0;32m~/anaconda3/envs/pt/lib/python3.8/site-packages/torch/nn/modules/module.py:1051\u001b[0m, in \u001b[0;36mModule._call_impl\u001b[0;34m(self, *input, **kwargs)\u001b[0m\n\u001b[1;32m   1047\u001b[0m \u001b[39m# If we don't have any hooks, we want to skip the rest of the logic in\u001b[39;00m\n\u001b[1;32m   1048\u001b[0m \u001b[39m# this function, and just call forward.\u001b[39;00m\n\u001b[1;32m   1049\u001b[0m \u001b[39mif\u001b[39;00m \u001b[39mnot\u001b[39;00m (\u001b[39mself\u001b[39m\u001b[39m.\u001b[39m_backward_hooks \u001b[39mor\u001b[39;00m \u001b[39mself\u001b[39m\u001b[39m.\u001b[39m_forward_hooks \u001b[39mor\u001b[39;00m \u001b[39mself\u001b[39m\u001b[39m.\u001b[39m_forward_pre_hooks \u001b[39mor\u001b[39;00m _global_backward_hooks\n\u001b[1;32m   1050\u001b[0m         \u001b[39mor\u001b[39;00m _global_forward_hooks \u001b[39mor\u001b[39;00m _global_forward_pre_hooks):\n\u001b[0;32m-> 1051\u001b[0m     \u001b[39mreturn\u001b[39;00m forward_call(\u001b[39m*\u001b[39;49m\u001b[39minput\u001b[39;49m, \u001b[39m*\u001b[39;49m\u001b[39m*\u001b[39;49mkwargs)\n\u001b[1;32m   1052\u001b[0m \u001b[39m# Do not call functions when jit is used\u001b[39;00m\n\u001b[1;32m   1053\u001b[0m full_backward_hooks, non_full_backward_hooks \u001b[39m=\u001b[39m [], []\n",
      "File \u001b[0;32m~/Desktop/graph-generative-models/gsn.py:181\u001b[0m, in \u001b[0;36mGSN.forward\u001b[0;34m(self, graph, input, all_loss, metric)\u001b[0m\n\u001b[1;32m    178\u001b[0m layer_input \u001b[39m=\u001b[39m \u001b[39mself\u001b[39m\u001b[39m.\u001b[39mlinear(\u001b[39minput\u001b[39m)\n\u001b[1;32m    180\u001b[0m \u001b[39mfor\u001b[39;00m layer \u001b[39min\u001b[39;00m \u001b[39mself\u001b[39m\u001b[39m.\u001b[39mlayers:\n\u001b[0;32m--> 181\u001b[0m     hidden \u001b[39m=\u001b[39m layer(graph, layer_input)\n\u001b[1;32m    182\u001b[0m     \u001b[39mif\u001b[39;00m \u001b[39mself\u001b[39m\u001b[39m.\u001b[39mshort_cut \u001b[39mand\u001b[39;00m hidden\u001b[39m.\u001b[39mshape \u001b[39m==\u001b[39m layer_input\u001b[39m.\u001b[39mshape:\n\u001b[1;32m    183\u001b[0m         hidden \u001b[39m=\u001b[39m hidden \u001b[39m+\u001b[39m layer_input\n",
      "File \u001b[0;32m~/anaconda3/envs/pt/lib/python3.8/site-packages/torch/nn/modules/module.py:1051\u001b[0m, in \u001b[0;36mModule._call_impl\u001b[0;34m(self, *input, **kwargs)\u001b[0m\n\u001b[1;32m   1047\u001b[0m \u001b[39m# If we don't have any hooks, we want to skip the rest of the logic in\u001b[39;00m\n\u001b[1;32m   1048\u001b[0m \u001b[39m# this function, and just call forward.\u001b[39;00m\n\u001b[1;32m   1049\u001b[0m \u001b[39mif\u001b[39;00m \u001b[39mnot\u001b[39;00m (\u001b[39mself\u001b[39m\u001b[39m.\u001b[39m_backward_hooks \u001b[39mor\u001b[39;00m \u001b[39mself\u001b[39m\u001b[39m.\u001b[39m_forward_hooks \u001b[39mor\u001b[39;00m \u001b[39mself\u001b[39m\u001b[39m.\u001b[39m_forward_pre_hooks \u001b[39mor\u001b[39;00m _global_backward_hooks\n\u001b[1;32m   1050\u001b[0m         \u001b[39mor\u001b[39;00m _global_forward_hooks \u001b[39mor\u001b[39;00m _global_forward_pre_hooks):\n\u001b[0;32m-> 1051\u001b[0m     \u001b[39mreturn\u001b[39;00m forward_call(\u001b[39m*\u001b[39;49m\u001b[39minput\u001b[39;49m, \u001b[39m*\u001b[39;49m\u001b[39m*\u001b[39;49mkwargs)\n\u001b[1;32m   1052\u001b[0m \u001b[39m# Do not call functions when jit is used\u001b[39;00m\n\u001b[1;32m   1053\u001b[0m full_backward_hooks, non_full_backward_hooks \u001b[39m=\u001b[39m [], []\n",
      "File \u001b[0;32m~/Desktop/graph-generative-models/torchdg0.2.0/torchdrug/layers/conv.py:91\u001b[0m, in \u001b[0;36mMessagePassingBase.forward\u001b[0;34m(self, graph, input)\u001b[0m\n\u001b[1;32m     89\u001b[0m     update \u001b[39m=\u001b[39m checkpoint\u001b[39m.\u001b[39mcheckpoint(\u001b[39mself\u001b[39m\u001b[39m.\u001b[39m_message_and_aggregate, \u001b[39m*\u001b[39mgraph\u001b[39m.\u001b[39mto_tensors(), \u001b[39minput\u001b[39m)\n\u001b[1;32m     90\u001b[0m \u001b[39melse\u001b[39;00m:\n\u001b[0;32m---> 91\u001b[0m     update \u001b[39m=\u001b[39m \u001b[39mself\u001b[39;49m\u001b[39m.\u001b[39;49mmessage_and_aggregate(graph, \u001b[39minput\u001b[39;49m)\n\u001b[1;32m     92\u001b[0m output \u001b[39m=\u001b[39m \u001b[39mself\u001b[39m\u001b[39m.\u001b[39mcombine(\u001b[39minput\u001b[39m, update)\n\u001b[1;32m     93\u001b[0m \u001b[39mreturn\u001b[39;00m output\n",
      "File \u001b[0;32m~/Desktop/graph-generative-models/torchdg0.2.0/torchdrug/layers/conv.py:61\u001b[0m, in \u001b[0;36mMessagePassingBase.message_and_aggregate\u001b[0;34m(self, graph, input)\u001b[0m\n\u001b[1;32m     48\u001b[0m \u001b[39m\u001b[39m\u001b[39m\"\"\"\u001b[39;00m\n\u001b[1;32m     49\u001b[0m \u001b[39mFused computation of message and aggregation over the graph.\u001b[39;00m\n\u001b[1;32m     50\u001b[0m \u001b[39mThis may provide better time or memory complexity than separate calls of\u001b[39;00m\n\u001b[0;32m   (...)\u001b[0m\n\u001b[1;32m     58\u001b[0m \u001b[39m    Tensor: node updates of shape :math:`(|V|, ...)`\u001b[39;00m\n\u001b[1;32m     59\u001b[0m \u001b[39m\"\"\"\u001b[39;00m\n\u001b[1;32m     60\u001b[0m message \u001b[39m=\u001b[39m \u001b[39mself\u001b[39m\u001b[39m.\u001b[39mmessage(graph, \u001b[39minput\u001b[39m)\n\u001b[0;32m---> 61\u001b[0m update \u001b[39m=\u001b[39m \u001b[39mself\u001b[39;49m\u001b[39m.\u001b[39;49maggregate(graph, message)\n\u001b[1;32m     62\u001b[0m \u001b[39mreturn\u001b[39;00m update\n",
      "File \u001b[0;32m~/Desktop/graph-generative-models/gsn.py:93\u001b[0m, in \u001b[0;36mGSNLayer.aggregate\u001b[0;34m(self, graph, message)\u001b[0m\n\u001b[1;32m     91\u001b[0m node_out \u001b[39m=\u001b[39m graph\u001b[39m.\u001b[39medge_list[:, \u001b[39m1\u001b[39m]\n\u001b[1;32m     92\u001b[0m edge_weight \u001b[39m=\u001b[39m graph\u001b[39m.\u001b[39medge_weight\u001b[39m.\u001b[39munsqueeze(\u001b[39m-\u001b[39m\u001b[39m1\u001b[39m)\n\u001b[0;32m---> 93\u001b[0m update \u001b[39m=\u001b[39m scatter_add(message \u001b[39m*\u001b[39;49m edge_weight, node_out, dim\u001b[39m=\u001b[39;49m\u001b[39m0\u001b[39;49m, dim_size\u001b[39m=\u001b[39;49mgraph\u001b[39m.\u001b[39;49mnum_node)\n\u001b[1;32m     94\u001b[0m \u001b[39mreturn\u001b[39;00m update\n",
      "File \u001b[0;32m~/anaconda3/envs/pt/lib/python3.8/site-packages/torch_scatter/scatter.py:29\u001b[0m, in \u001b[0;36mscatter_add\u001b[0;34m(src, index, dim, out, dim_size)\u001b[0m\n\u001b[1;32m     26\u001b[0m \u001b[39mdef\u001b[39;00m \u001b[39mscatter_add\u001b[39m(src: torch\u001b[39m.\u001b[39mTensor, index: torch\u001b[39m.\u001b[39mTensor, dim: \u001b[39mint\u001b[39m \u001b[39m=\u001b[39m \u001b[39m-\u001b[39m\u001b[39m1\u001b[39m,\n\u001b[1;32m     27\u001b[0m                 out: Optional[torch\u001b[39m.\u001b[39mTensor] \u001b[39m=\u001b[39m \u001b[39mNone\u001b[39;00m,\n\u001b[1;32m     28\u001b[0m                 dim_size: Optional[\u001b[39mint\u001b[39m] \u001b[39m=\u001b[39m \u001b[39mNone\u001b[39;00m) \u001b[39m-\u001b[39m\u001b[39m>\u001b[39m torch\u001b[39m.\u001b[39mTensor:\n\u001b[0;32m---> 29\u001b[0m     \u001b[39mreturn\u001b[39;00m scatter_sum(src, index, dim, out, dim_size)\n",
      "File \u001b[0;32m~/anaconda3/envs/pt/lib/python3.8/site-packages/torch_scatter/scatter.py:21\u001b[0m, in \u001b[0;36mscatter_sum\u001b[0;34m(src, index, dim, out, dim_size)\u001b[0m\n\u001b[1;32m     19\u001b[0m         size[dim] \u001b[39m=\u001b[39m \u001b[39mint\u001b[39m(index\u001b[39m.\u001b[39mmax()) \u001b[39m+\u001b[39m \u001b[39m1\u001b[39m\n\u001b[1;32m     20\u001b[0m     out \u001b[39m=\u001b[39m torch\u001b[39m.\u001b[39mzeros(size, dtype\u001b[39m=\u001b[39msrc\u001b[39m.\u001b[39mdtype, device\u001b[39m=\u001b[39msrc\u001b[39m.\u001b[39mdevice)\n\u001b[0;32m---> 21\u001b[0m     \u001b[39mreturn\u001b[39;00m out\u001b[39m.\u001b[39;49mscatter_add_(dim, index, src)\n\u001b[1;32m     22\u001b[0m \u001b[39melse\u001b[39;00m:\n\u001b[1;32m     23\u001b[0m     \u001b[39mreturn\u001b[39;00m out\u001b[39m.\u001b[39mscatter_add_(dim, index, src)\n",
      "\u001b[0;31mKeyboardInterrupt\u001b[0m: "
     ]
    }
   ],
   "source": [
    "from torch import nn, optim\n",
    "optimizer = optim.Adam(task.parameters(), lr = 1e-3)\n",
    "solver = core.Engine(task, dataset, None, None, optimizer,\n",
    "                     batch_size=128, log_interval=10)\n",
    "\n",
    "solver.train(num_epoch=1)"
   ]
  }
 ],
 "metadata": {
  "kernelspec": {
   "display_name": "pt",
   "language": "python",
   "name": "pt"
  },
  "language_info": {
   "codemirror_mode": {
    "name": "ipython",
    "version": 3
   },
   "file_extension": ".py",
   "mimetype": "text/x-python",
   "name": "python",
   "nbconvert_exporter": "python",
   "pygments_lexer": "ipython3",
   "version": "3.8.16"
  },
  "orig_nbformat": 4
 },
 "nbformat": 4,
 "nbformat_minor": 2
}
